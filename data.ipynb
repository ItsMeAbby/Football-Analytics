{
 "cells": [
  {
   "cell_type": "code",
   "execution_count": null,
   "id": "ecbdd739",
   "metadata": {},
   "outputs": [],
   "source": [
    "from statsbombpy import sb\n",
    "import pandas as pd\n",
    "from pandas import json_normalize\n",
    "import numpy as np\n",
    "\n",
    "import matplotlib.pyplot as plt\n",
    "import matplotlib.ticker as ticker\n",
    "import matplotlib.patheffects as path_effects\n",
    "\n",
    "# We'll only use a vertical pitch for this tutorial\n",
    "from mplsoccer import VerticalPitch, Sbopen\n",
    "\n",
    "# Get competitions\n",
    "comp = sb.competitions()"
   ]
  },
  {
   "cell_type": "code",
   "execution_count": null,
   "id": "17496fb8",
   "metadata": {},
   "outputs": [],
   "source": [
    "comp.head(1)"
   ]
  },
  {
   "cell_type": "markdown",
   "id": "d97bb7d9",
   "metadata": {},
   "source": []
  },
  {
   "cell_type": "code",
   "execution_count": null,
   "id": "fc62d8a7",
   "metadata": {},
   "outputs": [],
   "source": [
    "matches= sb.matches(9,281)"
   ]
  },
  {
   "cell_type": "code",
   "execution_count": null,
   "id": "cd4de5e5",
   "metadata": {},
   "outputs": [],
   "source": [
    "matches.head(1)"
   ]
  },
  {
   "cell_type": "code",
   "execution_count": null,
   "id": "6051cd46",
   "metadata": {},
   "outputs": [],
   "source": [
    "events= sb.events(3895302)"
   ]
  },
  {
   "cell_type": "code",
   "execution_count": null,
   "id": "928467ce",
   "metadata": {},
   "outputs": [],
   "source": [
    "# ÷unique values in type colun\n",
    "\n",
    "unique_types = events['type'].unique()\n",
    "print(unique_types)"
   ]
  },
  {
   "cell_type": "code",
   "execution_count": null,
   "id": "147b68fa",
   "metadata": {},
   "outputs": [],
   "source": [
    "# row ehere type is \"Foul Won\"\n",
    "foul_won = events[events['type'] == 'Foul Committed']\n"
   ]
  },
  {
   "cell_type": "code",
   "execution_count": null,
   "id": "36225711",
   "metadata": {},
   "outputs": [],
   "source": [
    "foul_won.to_csv('foul_won.csv', index=False)"
   ]
  },
  {
   "cell_type": "code",
   "execution_count": null,
   "id": "b77f6887",
   "metadata": {},
   "outputs": [],
   "source": [
    "events.columns"
   ]
  },
  {
   "cell_type": "code",
   "execution_count": null,
   "id": "ac0be5d9",
   "metadata": {},
   "outputs": [],
   "source": [
    "sb.lineups(3895302)"
   ]
  },
  {
   "cell_type": "code",
   "execution_count": null,
   "id": "9dd093b9",
   "metadata": {},
   "outputs": [],
   "source": [
    "a=sb.matches(competition_id=55, season_id=282)"
   ]
  },
  {
   "cell_type": "code",
   "execution_count": null,
   "id": "aca1f5bb",
   "metadata": {},
   "outputs": [],
   "source": [
    "a"
   ]
  },
  {
   "cell_type": "code",
   "execution_count": null,
   "id": "dba3f131",
   "metadata": {},
   "outputs": [],
   "source": [
    "events = sb.events(match_id=3930161)\n",
    "events[\"type\"].unique()"
   ]
  },
  {
   "cell_type": "code",
   "execution_count": null,
   "id": "09b5f6bd",
   "metadata": {},
   "outputs": [],
   "source": [
    "events_type = events['type'].unique()\n",
    "print(events_type)\n",
    "# df where type is 'Own Goal For' 'Own Goal Against'\n",
    "own_goals = events[events['type'].isin(['Own Goal For', 'Own Goal Against'])]\n",
    "print(own_goals.to_dict(orient='records'))"
   ]
  },
  {
   "cell_type": "code",
   "execution_count": null,
   "id": "e25faec4",
   "metadata": {},
   "outputs": [],
   "source": [
    "# postion unique values\n",
    "unique_positions = events['position'].unique()\n",
    "# print(unique_positions)\n",
    "\n",
    "# ITERATE OVERL ALL MATCHES AND GET ALL POSSIBLE POSITIONS\n",
    "all_positions = set()\n",
    "eventss=[]\n",
    "for match_id in a['match_id']:\n",
    "    events = sb.events(match_id)\n",
    "    eventss.extend(list(events[\"type\"].unique()))\n",
    "    eventss=set(eventss)\n",
    "    all_positions.update(events['position'].dropna().unique())\n",
    "# Convert to a sorted list\n",
    "all_positions = sorted(all_positions)\n",
    "print(all_positions)"
   ]
  },
  {
   "cell_type": "code",
   "execution_count": null,
   "id": "26391b6b",
   "metadata": {},
   "outputs": [],
   "source": [
    "events = sb.events(match_id=3930167)\n",
    "events.to_csv('events.csv', index=False)"
   ]
  },
  {
   "cell_type": "code",
   "execution_count": null,
   "id": "4583533e",
   "metadata": {},
   "outputs": [],
   "source": [
    "# gt all formations in matches in the competition\n",
    "formations = set()\n",
    "match_ids=[]\n",
    "for match_id in a['match_id']:\n",
    "    match_info = a[a['match_id'] == match_id].iloc[0]\n",
    "    home_team = match_info['home_team']\n",
    "    away_team = match_info['away_team']\n",
    "    events = sb.events(match_id)\n",
    "    f= events[\"tactics\"].iloc[0]['formation']\n",
    "    if f not in formations:\n",
    "        formations.add(f)\n",
    "        match_ids.append((match_id,home_team, away_team, f))\n",
    "\n"
   ]
  },
  {
   "cell_type": "code",
   "execution_count": null,
   "id": "c576473a",
   "metadata": {},
   "outputs": [],
   "source": [
    "match_ids"
   ]
  },
  {
   "cell_type": "code",
   "execution_count": null,
   "id": "253cae09",
   "metadata": {},
   "outputs": [],
   "source": [
    "formations, len(formations)"
   ]
  },
  {
   "cell_type": "code",
   "execution_count": null,
   "id": "3ed86003",
   "metadata": {},
   "outputs": [],
   "source": [
    "parser = Sbopen()\n",
    "event, related, freeze, tactics = parser.event(69249)"
   ]
  },
  {
   "cell_type": "code",
   "execution_count": null,
   "id": "12fa62cf",
   "metadata": {},
   "outputs": [],
   "source": [
    " event['tactics_formation'].iloc[0]"
   ]
  },
  {
   "cell_type": "code",
   "execution_count": null,
   "id": "80712dfe",
   "metadata": {},
   "outputs": [],
   "source": [
    "[0] * 11"
   ]
  },
  {
   "cell_type": "code",
   "execution_count": null,
   "id": "b5195052",
   "metadata": {},
   "outputs": [],
   "source": [
    "events[events['type'] == 'Substitution']\n",
    "# print folowing columnsevents.columns\n",
    "# type, substitution_replacement\n",
    "substitutions = events[events['type'] == 'Substitution'][['player','type', 'substitution_replacement']]\n",
    "print(substitutions)"
   ]
  },
  {
   "cell_type": "code",
   "execution_count": null,
   "id": "f47721ef",
   "metadata": {},
   "outputs": [],
   "source": [
    "# Mateo Retegui,Gianluca Scamacca\n",
    "players_of_interest = ['Mateo Retegui', 'Gianluca Scamacca']\n",
    "events_of_interest = events[events['player'].isin(players_of_interest)]\n",
    "columns_of_interest = ['player', 'type', 'pass_recipient', 'position', 'substitution_replacement']\n"
   ]
  },
  {
   "cell_type": "code",
   "execution_count": null,
   "id": "071f3d55",
   "metadata": {},
   "outputs": [],
   "source": [
    "pass_outcomes = events['pass_outcome'].unique()\n",
    "print(pass_outcomes)"
   ]
  },
  {
   "cell_type": "code",
   "execution_count": null,
   "id": "65b42bef",
   "metadata": {},
   "outputs": [],
   "source": [
    "events_of_interest.to_dict()"
   ]
  },
  {
   "cell_type": "code",
   "execution_count": null,
   "id": "fd38b6be",
   "metadata": {},
   "outputs": [],
   "source": [
    "events_of_interest.to_csv('events_of_interest.csv', index=False)"
   ]
  },
  {
   "cell_type": "code",
   "execution_count": null,
   "id": "952f6218",
   "metadata": {},
   "outputs": [],
   "source": [
    "# row in a where match id is 3895302\n",
    "match_row = a[a['match_id'] == 3930167]"
   ]
  },
  {
   "cell_type": "code",
   "execution_count": null,
   "id": "a7041b07",
   "metadata": {},
   "outputs": [],
   "source": [
    "match_row.to_dict(orient='records')\n"
   ]
  },
  {
   "cell_type": "code",
   "execution_count": null,
   "id": "753a00ab",
   "metadata": {},
   "outputs": [],
   "source": [
    "sb.lineups(3930167)[\"Albania\"]"
   ]
  },
  {
   "cell_type": "code",
   "execution_count": null,
   "id": "0d80a2f8",
   "metadata": {},
   "outputs": [],
   "source": [
    "events[\"tactics\"].iloc[0]"
   ]
  },
  {
   "cell_type": "code",
   "execution_count": null,
   "id": "6b068099",
   "metadata": {},
   "outputs": [],
   "source": [
    "starting_xi_event = events.loc[((events['type'] == 'Starting XI') &\n",
    "                               (events['team'] == 'Croatia')), ['id', 'tactics']]"
   ]
  },
  {
   "cell_type": "code",
   "execution_count": null,
   "id": "b372c3c3",
   "metadata": {},
   "outputs": [],
   "source": [
    "print(starting_xi_event)"
   ]
  },
  {
   "cell_type": "code",
   "execution_count": null,
   "id": "90a64689",
   "metadata": {},
   "outputs": [],
   "source": [
    "parser = Sbopen()\n",
    "event, related, freeze, tactics = parser.event(3930167)"
   ]
  },
  {
   "cell_type": "code",
   "execution_count": null,
   "id": "14be924a",
   "metadata": {},
   "outputs": [],
   "source": [
    "related"
   ]
  },
  {
   "cell_type": "code",
   "execution_count": null,
   "id": "61ced49b",
   "metadata": {},
   "outputs": [],
   "source": [
    "sb.lineups(3930167)"
   ]
  },
  {
   "cell_type": "code",
   "execution_count": null,
   "id": "4dcc0b46",
   "metadata": {},
   "outputs": [],
   "source": [
    "parser = Sbopen()\n",
    "event, related, freeze, tactics = parser.event(69249)\n",
    "# starting players from Barcelona\n",
    "starting_xi_event = event.loc[((event['type_name'] == 'Starting XI') &\n",
    "                               (event['team_name'] == 'Barcelona')), ['id', 'tactics_formation']]\n",
    "# joining on the team name and formation to the lineup\n",
    "starting_xi = tactics.merge(starting_xi_event, on='id')\n",
    "# replace player names with the shorter version\n",
    "player_short_names = {'Víctor Valdés Arribas': 'Víctor Valdés',\n",
    "                      'Daniel Alves da Silva': 'Dani Alves',\n",
    "                      'Gerard Piqué Bernabéu': 'Gerard Piqué',\n",
    "                      'Carles Puyol i Saforcada': 'Carles Puyol',\n",
    "                      'Eric-Sylvain Bilal Abidal': 'Eric Abidal',\n",
    "                      'Gnégnéri Yaya Touré': 'Yaya Touré',\n",
    "                      'Andrés Iniesta Luján': 'Andrés Iniesta',\n",
    "                      'Xavier Hernández Creus': 'Xavier Hernández',\n",
    "                      'Lionel Andrés Messi Cuccittini': 'Lionel Messi',\n",
    "                      'Thierry Henry': 'Thierry Henry',\n",
    "                      \"Samuel Eto''o Fils\": \"Samuel Eto'o\"}\n",
    "starting_xi['player_name'] = starting_xi['player_name'].replace(player_short_names)\n",
    "# filter only succesful ball receipts from the starting XI\n",
    "event = event.loc[((event['type_name'] == 'Ball Receipt') &\n",
    "                   (event['outcome_name'].isnull()) &\n",
    "                   (event['player_id'].isin(starting_xi['player_id']))\n",
    "                   ), ['player_id', 'x', 'y']]\n",
    "# merge on the starting positions to the events\n",
    "event = event.merge(starting_xi, on='player_id')\n",
    "formation = event['tactics_formation'].iloc[0]"
   ]
  },
  {
   "cell_type": "code",
   "execution_count": null,
   "id": "54ae3be7",
   "metadata": {},
   "outputs": [],
   "source": [
    "type(formation)"
   ]
  },
  {
   "cell_type": "code",
   "execution_count": null,
   "id": "11d0d347",
   "metadata": {},
   "outputs": [],
   "source": [
    "from mplsoccer import Pitch\n",
    "pitch = Pitch()\n",
    "print(pitch.formations)"
   ]
  },
  {
   "cell_type": "code",
   "execution_count": null,
   "id": "3eb38e20",
   "metadata": {},
   "outputs": [],
   "source": [
    "def get_formation_offsets(formation: str) -> list:\n",
    "    try:\n",
    "        # Convert the string formation (e.g., '4231') into a list of integers\n",
    "        lines = [int(x) for x in formation]\n",
    "        if sum(lines) != 10:\n",
    "            raise ValueError(\"Formation must sum to 10 outfield players.\")\n",
    "\n",
    "        offsets = [0]\n",
    "        for num_players in lines:\n",
    "            if num_players == 1:\n",
    "                offsets.append(0)\n",
    "            else:\n",
    "                # spread players evenly with spacing of 6 units\n",
    "                width = (num_players - 1) * 6\n",
    "                line_offsets = list(range(-width // 2, width // 2 + 1, 6))\n",
    "                if len(line_offsets) > num_players:  # remove extra if over\n",
    "                    line_offsets = line_offsets[:num_players]\n",
    "                offsets.extend(line_offsets)\n",
    "\n",
    "        return offsets\n",
    "    except ValueError as e:\n",
    "        print(f\"Error parsing formation '{formation}': {e}\")\n",
    "        return [0 for i in range(10)]  # Default to a flat line if parsing fails\n",
    "xoffset =   get_formation_offsets(\"4321\")\n",
    "xoffset"
   ]
  },
  {
   "cell_type": "code",
   "execution_count": null,
   "id": "fd11554b",
   "metadata": {},
   "outputs": [],
   "source": [
    "event.columns"
   ]
  },
  {
   "cell_type": "code",
   "execution_count": null,
   "id": "622d89ac",
   "metadata": {},
   "outputs": [],
   "source": []
  },
  {
   "cell_type": "code",
   "execution_count": 8,
   "id": "106222a6",
   "metadata": {},
   "outputs": [
    {
     "name": "stderr",
     "output_type": "stream",
     "text": [
      "/opt/miniconda3/envs/viz/lib/python3.10/site-packages/statsbombpy/api_client.py:21: NoAuthWarning: credentials were not supplied. open data access only\n",
      "  warnings.warn(\n",
      "/opt/miniconda3/envs/viz/lib/python3.10/site-packages/statsbombpy/api_client.py:21: NoAuthWarning: credentials were not supplied. open data access only\n",
      "  warnings.warn(\n",
      "/opt/miniconda3/envs/viz/lib/python3.10/site-packages/statsbombpy/api_client.py:21: NoAuthWarning: credentials were not supplied. open data access only\n",
      "  warnings.warn(\n",
      "/opt/miniconda3/envs/viz/lib/python3.10/site-packages/statsbombpy/api_client.py:21: NoAuthWarning: credentials were not supplied. open data access only\n",
      "  warnings.warn(\n",
      "/opt/miniconda3/envs/viz/lib/python3.10/site-packages/statsbombpy/api_client.py:21: NoAuthWarning: credentials were not supplied. open data access only\n",
      "  warnings.warn(\n",
      "/opt/miniconda3/envs/viz/lib/python3.10/site-packages/statsbombpy/api_client.py:21: NoAuthWarning: credentials were not supplied. open data access only\n",
      "  warnings.warn(\n",
      "/opt/miniconda3/envs/viz/lib/python3.10/site-packages/statsbombpy/api_client.py:21: NoAuthWarning: credentials were not supplied. open data access only\n",
      "  warnings.warn(\n",
      "/opt/miniconda3/envs/viz/lib/python3.10/site-packages/statsbombpy/api_client.py:21: NoAuthWarning: credentials were not supplied. open data access only\n",
      "  warnings.warn(\n",
      "/opt/miniconda3/envs/viz/lib/python3.10/site-packages/statsbombpy/api_client.py:21: NoAuthWarning: credentials were not supplied. open data access only\n",
      "  warnings.warn(\n"
     ]
    }
   ],
   "source": [
    "from statsbombpy import sb\n",
    "a=sb.competition_events(\n",
    "        country='Europe',\n",
    "        division='UEFA Euro',\n",
    "        season='2024',\n",
    "        gender=\"male\"\n",
    "    )\n",
    "\n"
   ]
  },
  {
   "cell_type": "code",
   "execution_count": 9,
   "id": "8cb85fb5",
   "metadata": {},
   "outputs": [
    {
     "name": "stdout",
     "output_type": "stream",
     "text": [
      "['ball_receipt_outcome', 'dribble_outcome', 'duel_outcome', 'goalkeeper_outcome', 'interception_outcome', 'pass_outcome', 'shot_outcome', 'substitution_outcome']\n"
     ]
    }
   ],
   "source": [
    "# a.columns\n",
    "# list all columns which have outcome in it\n",
    "outcome_columns = [col for col in a.columns if 'outcome' in col.lower()]\n",
    "print(outcome_columns)"
   ]
  },
  {
   "cell_type": "code",
   "execution_count": 10,
   "id": "b115b66e",
   "metadata": {},
   "outputs": [
    {
     "name": "stdout",
     "output_type": "stream",
     "text": [
      "dribble_outcome: [nan 'Complete' 'Incomplete']\n",
      "pass_outcome: [nan 'Incomplete' 'Pass Offside' 'Out' 'Unknown' 'Injury Clearance']\n",
      "shot_outcome: [nan 'Goal' 'Saved' 'Blocked' 'Post' 'Off T' 'Wayward' 'Saved to Post'\n",
      " 'Saved Off Target']\n",
      "duel_outcome: [nan 'Success In Play' 'Won' 'Lost In Play' 'Lost Out' 'Success Out']\n",
      "interception_outcome: [nan 'Lost In Play' 'Lost Out' 'Success In Play' 'Won' 'Success Out']\n"
     ]
    }
   ],
   "source": [
    "# list column name and unique values of it\n",
    "for col in [\"dribble_outcome\", \"pass_outcome\", \"shot_outcome\", \"duel_outcome\",\"interception_outcome\"]:\n",
    "    unique_values = a[col].unique()\n",
    "    print(f\"{col}: {unique_values}\")"
   ]
  },
  {
   "cell_type": "code",
   "execution_count": 11,
   "id": "146b440c",
   "metadata": {},
   "outputs": [
    {
     "name": "stdout",
     "output_type": "stream",
     "text": [
      "Maximum values for each event type:\n",
      "50/50: 5\n",
      "Bad Behaviour: 1\n",
      "Ball Receipt*: 506\n",
      "Ball Recovery: 40\n",
      "Block: 21\n",
      "Carry: 459\n",
      "Clearance: 32\n",
      "Dispossessed: 16\n",
      "Dribble: 32\n",
      "Dribbled Past: 9\n",
      "Duel: 31\n",
      "Error: 2\n",
      "Foul Committed: 15\n",
      "Foul Won: 19\n",
      "Goal Keeper: 119\n",
      "Injury Stoppage: 7\n",
      "Interception: 12\n",
      "Miscontrol: 22\n",
      "Offside: 2\n",
      "Own Goal Against: 1\n",
      "Pass: 562\n",
      "Player Off: 3\n",
      "Player On: 3\n",
      "Pressure: 156\n",
      "Shield: 3\n",
      "Shot: 25\n",
      "Substitution: 6\n"
     ]
    }
   ],
   "source": [
    "# Get maximum count for each event type across all players\n",
    "max_vals_for_normalization = a.groupby(['player', 'type']).size().reset_index(name='count')\n",
    "max_vals_for_normalization = max_vals_for_normalization.groupby('type')['count'].max().to_dict()\n",
    "\n",
    "print(\"Maximum values for each event type:\")\n",
    "for event_type, max_count in sorted(max_vals_for_normalization.items()):\n",
    "  print(f\"{event_type}: {max_count}\")\n"
   ]
  },
  {
   "cell_type": "code",
   "execution_count": null,
   "id": "c54b43b5",
   "metadata": {},
   "outputs": [],
   "source": [
    "max_vals"
   ]
  },
  {
   "cell_type": "code",
   "execution_count": 12,
   "id": "6b19a06c",
   "metadata": {},
   "outputs": [
    {
     "data": {
      "text/plain": [
       "{'50/50': 5,\n",
       " 'Bad Behaviour': 1,\n",
       " 'Ball Receipt*': 506,\n",
       " 'Ball Recovery': 40,\n",
       " 'Block': 21,\n",
       " 'Carry': 459,\n",
       " 'Clearance': 32,\n",
       " 'Dispossessed': 16,\n",
       " 'Dribble': 32,\n",
       " 'Dribbled Past': 9,\n",
       " 'Duel': 31,\n",
       " 'Error': 2,\n",
       " 'Foul Committed': 15,\n",
       " 'Foul Won': 19,\n",
       " 'Goal Keeper': 119,\n",
       " 'Injury Stoppage': 7,\n",
       " 'Interception': 12,\n",
       " 'Miscontrol': 22,\n",
       " 'Offside': 2,\n",
       " 'Own Goal Against': 1,\n",
       " 'Pass': 562,\n",
       " 'Player Off': 3,\n",
       " 'Player On': 3,\n",
       " 'Pressure': 156,\n",
       " 'Shield': 3,\n",
       " 'Shot': 25,\n",
       " 'Substitution': 6}"
      ]
     },
     "execution_count": 12,
     "metadata": {},
     "output_type": "execute_result"
    }
   ],
   "source": [
    "max_vals_for_normalization"
   ]
  },
  {
   "cell_type": "code",
   "execution_count": null,
   "id": "62a3c1c5",
   "metadata": {},
   "outputs": [],
   "source": []
  }
 ],
 "metadata": {
  "kernelspec": {
   "display_name": "viz",
   "language": "python",
   "name": "python3"
  },
  "language_info": {
   "codemirror_mode": {
    "name": "ipython",
    "version": 3
   },
   "file_extension": ".py",
   "mimetype": "text/x-python",
   "name": "python",
   "nbconvert_exporter": "python",
   "pygments_lexer": "ipython3",
   "version": "3.10.18"
  }
 },
 "nbformat": 4,
 "nbformat_minor": 5
}
